{
 "cells": [
  {
   "cell_type": "code",
   "execution_count": 2,
   "metadata": {},
   "outputs": [
    {
     "name": "stdout",
     "output_type": "stream",
     "text": [
      "Downloading data from https://s3.amazonaws.com/keras-datasets/boston_housing.npz\n",
      "57344/57026 [==============================] - 0s 8us/step\n"
     ]
    }
   ],
   "source": [
    "from keras.datasets import boston_housing\n",
    "(train_data,train_label),(test_data,test_label)=boston_housing.load_data()"
   ]
  },
  {
   "cell_type": "code",
   "execution_count": 4,
   "metadata": {},
   "outputs": [
    {
     "data": {
      "text/plain": [
       "(404, 13)"
      ]
     },
     "execution_count": 4,
     "metadata": {},
     "output_type": "execute_result"
    }
   ],
   "source": [
    "train_data.shape"
   ]
  },
  {
   "cell_type": "code",
   "execution_count": 5,
   "metadata": {},
   "outputs": [
    {
     "data": {
      "text/plain": [
       "(102, 13)"
      ]
     },
     "execution_count": 5,
     "metadata": {},
     "output_type": "execute_result"
    }
   ],
   "source": [
    "test_data.shape"
   ]
  },
  {
   "cell_type": "code",
   "execution_count": 17,
   "metadata": {},
   "outputs": [],
   "source": [
    "mean=train_data.mean(axis=0)\n",
    "std=train_data.std(axis=0)\n",
    "train_data-=mean\n",
    "train_data/=std\n",
    "test_data -= mean\n",
    "test_data /= std"
   ]
  },
  {
   "cell_type": "code",
   "execution_count": 23,
   "metadata": {},
   "outputs": [],
   "source": [
    "from keras.models import Sequential\n",
    "from keras.layers import Dense\n",
    "model=Sequential()\n",
    "model.add(Dense(64,activation='relu',input_shape=(13,)))\n",
    "model.add(Dense(64,activation='relu'))\n",
    "model.add(Dense(1))\n",
    "model.compile(optimizer='rmsprop',loss='mse',metrics=['mae'])\n"
   ]
  },
  {
   "cell_type": "code",
   "execution_count": 24,
   "metadata": {},
   "outputs": [],
   "source": [
    "import numpy as np\n",
    "k=4\n",
    "num_val_samples=len(test_data)//k\n",
    "num_epochs = 100\n",
    "all_scores = []\n"
   ]
  },
  {
   "cell_type": "code",
   "execution_count": 25,
   "metadata": {},
   "outputs": [
    {
     "name": "stdout",
     "output_type": "stream",
     "text": [
      "processing fold # 0\n",
      "processing fold # 1\n",
      "processing fold # 2\n",
      "processing fold # 3\n"
     ]
    }
   ],
   "source": [
    "for i in range(k):\n",
    "    print('processing fold #', i)\n",
    "    val_data = train_data[i * num_val_samples: (i + 1) * num_val_samples]\n",
    "    val_targets = train_label[i * num_val_samples: (i + 1) * num_val_samples]\n",
    "    partial_train_data = np.concatenate(\n",
    "    [train_data[:i * num_val_samples],\n",
    "    train_data[(i + 1) * num_val_samples:]],\n",
    "    axis=0)\n",
    "    partial_train_targets = np.concatenate(\n",
    "    [train_label[:i * num_val_samples],\n",
    "    train_label[(i + 1) * num_val_samples:]],\n",
    "    axis=0)\n",
    "    model.fit(partial_train_data, partial_train_targets,\n",
    "    epochs=num_epochs, batch_size=1, verbose=0)\n",
    "    val_mse, val_mae = model.evaluate(val_data, val_targets, verbose=0)\n",
    "    all_scores.append(val_mae)"
   ]
  },
  {
   "cell_type": "code",
   "execution_count": 26,
   "metadata": {},
   "outputs": [
    {
     "data": {
      "text/plain": [
       "[2.2958338260650635,\n",
       " 1.5245012044906616,\n",
       " 1.2882516384124756,\n",
       " 1.3319751024246216]"
      ]
     },
     "execution_count": 26,
     "metadata": {},
     "output_type": "execute_result"
    }
   ],
   "source": [
    "all_scores"
   ]
  },
  {
   "cell_type": "code",
   "execution_count": 40,
   "metadata": {},
   "outputs": [
    {
     "data": {
      "image/png": "[encoded data removed]",
      "text/plain": [
       "<Figure size 432x288 with 1 Axes>"
      ]
     },
     "metadata": {
      "needs_background": "light"
     },
     "output_type": "display_data"
    }
   ],
   "source": [
    "result=model.predict(test_data)\n",
    "import matplotlib.pyplot as plt\n",
    "xval=range(1,len(test_label)+1)\n",
    "plt.plot(xval,test_label*1000,'b')\n",
    "plt.plot(xval,result,'r')\n",
    "plt.xlabel('count')\n",
    "plt.ylabel('price')\n",
    "plt.show()\n",
    "\n"
   ]
  },
  {
   "cell_type": "code",
   "execution_count": 39,
   "metadata": {},
   "outputs": [
    {
     "name": "stdout",
     "output_type": "stream",
     "text": [
      "[15200. 42300. 50000. 21100. 17700. 18500. 11300. 15600. 15600. 14400.\n",
      " 12100. 17900. 23100. 19900. 15700.  8800. 50000. 22500. 24100. 27500.\n",
      " 10900. 30800. 32900. 24000. 18500. 13300. 22900. 34700. 16600. 17500.\n",
      " 22300. 16100. 14900. 23100. 34900. 25000. 13900. 13100. 20400. 20000.\n",
      " 15200. 24700. 22200. 16700. 12700. 15600. 18400. 21000. 30100. 15100.\n",
      " 18700.  9600. 31500. 24800. 19100. 22000. 14500. 11000. 32000. 29400.\n",
      " 20300. 24400. 14600. 19500. 14100. 14300. 15600. 10500.  6300. 19300.\n",
      " 19300. 13400. 36400. 17800. 13500. 16500.  8300. 14300. 16000. 13400.\n",
      " 28600. 43500. 20200. 22000. 23000. 20700. 12500. 48500. 14600. 13400.\n",
      " 23700. 50000. 21700. 39800. 38700. 22200. 34900. 22500. 31100. 28700.\n",
      " 46000. 41700. 21000. 26600. 15000. 24400. 13300. 21200. 11700. 21700.\n",
      " 19400. 50000. 22800. 19700. 24700. 36200. 14200. 18900. 18300. 20600.\n",
      " 24600. 18200.  8700. 44000. 10400. 13200. 21200. 37000. 30700. 22900.\n",
      " 20000. 19300. 31700. 32000. 23100. 18800. 10900. 50000. 19600.  5000.\n",
      " 14400. 19800. 13800. 19600. 23900. 24500. 25000. 19900. 17200. 24600.\n",
      " 13500. 26600. 21400. 11900. 22600. 19600.  8500. 23700. 23100. 22400.\n",
      " 20500. 23600. 18400. 35200. 23100. 27900. 20600. 23700. 28000. 13600.\n",
      " 27100. 23600. 20600. 18200. 21700. 17100.  8400. 25300. 13800. 22200.\n",
      " 18400. 20700. 31600. 30500. 20300.  8800. 19200. 19400. 23100. 23000.\n",
      " 14800. 48800. 22600. 33400. 21100. 13600. 32200. 13100. 23400. 18900.\n",
      " 23900. 11800. 23300. 22800. 19600. 16700. 13400. 22200. 20400. 21800.\n",
      " 26400. 14900. 24100. 23800. 12300. 29100. 21000. 19500. 23300. 23800.\n",
      " 17800. 11500. 21700. 19900. 25000. 33400. 28500. 21400. 24300. 27500.\n",
      " 33100. 16200. 23300. 48300. 22900. 22800. 13100. 12700. 22600. 15000.\n",
      " 15300. 10500. 24000. 18500. 21700. 19500. 33200. 23200.  5000. 19100.\n",
      " 12700. 22300. 10200. 13900. 16300. 17000. 20100. 29900. 17200. 37300.\n",
      " 45400. 17800. 23200. 29000. 22000. 18000. 17400. 34600. 20100. 25000.\n",
      " 15600. 24800. 28200. 21200. 21400. 23800. 31000. 26200. 17400. 37900.\n",
      " 17500. 20000.  8300. 23900.  8400. 13800.  7200. 11700. 17100. 21600.\n",
      " 50000. 16100. 20400. 20600. 21400. 20600. 36500.  8500. 24800. 10800.\n",
      " 21900. 17300. 18900. 36200. 14900. 18200. 33300. 21800. 19700. 31600.\n",
      " 24800. 19400. 22800.  7500. 44800. 16800. 18700. 50000. 50000. 19500.\n",
      " 20100. 50000. 17200. 20800. 19300. 41300. 20400. 20500. 13800. 16500.\n",
      " 23900. 20600. 31500. 23300. 16800. 14000. 33800. 36100. 12800. 18300.\n",
      " 18700. 19100. 29000. 30100. 50000. 50000. 22000. 11900. 37600. 50000.\n",
      " 22700. 20800. 23500. 27900. 50000. 19300. 23900. 22600. 15200. 21700.\n",
      " 19200. 43800. 20300. 33200. 19900. 22500. 32700. 22000. 17100. 19000.\n",
      " 15000. 16100. 25100. 23700. 28700. 37200. 22600. 16400. 25000. 29800.\n",
      " 22100. 17400. 18100. 30300. 17500. 24700. 12600. 26500. 28700. 13300.\n",
      " 10400. 24400. 23000. 20000. 17800.  7000. 11800. 24400. 13800. 19400.\n",
      " 25200. 19400. 19400. 29100.]\n",
      "[[1498.3525   ]\n",
      " [-432.66986  ]\n",
      " [  -7.2072277]\n",
      " [-360.31848  ]\n",
      " [-120.80486  ]\n",
      " [-261.36746  ]\n",
      " [-466.43964  ]\n",
      " [-254.96657  ]\n",
      " [ -77.96982  ]\n",
      " [ -13.514219 ]\n",
      " [ 661.6404   ]\n",
      " [-293.4051   ]\n",
      " [-439.11517  ]\n",
      " [  27.767958 ]\n",
      " [ 218.70395  ]\n",
      " [-282.26178  ]\n",
      " [ -60.973614 ]\n",
      " [-293.06042  ]\n",
      " [ -24.197477 ]\n",
      " [ -28.831877 ]\n",
      " [ -19.300077 ]\n",
      " [1616.6824   ]\n",
      " [-204.02563  ]\n",
      " [-349.48615  ]\n",
      " [-356.66983  ]\n",
      " [ -14.765196 ]\n",
      " [-267.0559   ]\n",
      " [-226.37036  ]\n",
      " [1416.8442   ]\n",
      " [-211.01456  ]\n",
      " [-419.7338   ]\n",
      " [1309.4509   ]\n",
      " [-170.18776  ]\n",
      " [ -64.56504  ]\n",
      " [ -61.60272  ]\n",
      " [-198.91833  ]\n",
      " [-423.83203  ]\n",
      " [   9.252932 ]\n",
      " [  80.5549   ]\n",
      " [-322.95862  ]\n",
      " [-117.71159  ]\n",
      " [-228.4333   ]\n",
      " [ -85.48233  ]\n",
      " [-110.540924 ]\n",
      " [ -56.368824 ]\n",
      " [  -6.7347393]\n",
      " [-144.6315   ]\n",
      " [-235.8659   ]\n",
      " [ -28.923094 ]\n",
      " [-145.56491  ]\n",
      " [-249.2535   ]\n",
      " [-194.75397  ]\n",
      " [-113.60837  ]\n",
      " [-263.43637  ]\n",
      " [-500.10083  ]\n",
      " [-132.84306  ]\n",
      " [-129.6698   ]\n",
      " [-284.5885   ]\n",
      " [-185.79965  ]\n",
      " [-170.45633  ]\n",
      " [  45.222507 ]\n",
      " [ -72.73047  ]\n",
      " [ 869.12274  ]\n",
      " [-340.52258  ]\n",
      " [-200.83594  ]\n",
      " [-407.41803  ]\n",
      " [ 174.9035   ]\n",
      " [-282.3498   ]\n",
      " [ 279.76096  ]\n",
      " [-214.34164  ]\n",
      " [ -16.46179  ]\n",
      " [-182.18399  ]\n",
      " [ -25.543089 ]\n",
      " [ 159.10281  ]\n",
      " [-258.01483  ]\n",
      " [-324.67468  ]\n",
      " [-247.89444  ]\n",
      " [-120.28894  ]\n",
      " [ -52.382744 ]\n",
      " [ -74.560974 ]\n",
      " [-253.08493  ]\n",
      " [-321.10123  ]\n",
      " [-381.91647  ]\n",
      " [ -71.88095  ]\n",
      " [-254.10272  ]\n",
      " [-324.07654  ]\n",
      " [ -69.97806  ]\n",
      " [-221.35484  ]\n",
      " [-209.2326   ]\n",
      " [ -17.755522 ]\n",
      " [-134.03711  ]\n",
      " [-466.65253  ]\n",
      " [-322.3041   ]\n",
      " [-179.17383  ]\n",
      " [ -31.361547 ]\n",
      " [-435.48077  ]\n",
      " [-339.8741   ]\n",
      " [  79.97824  ]\n",
      " [-191.56905  ]\n",
      " [-484.25424  ]\n",
      " [-278.44708  ]\n",
      " [ -92.86731  ]]\n"
     ]
    }
   ],
   "source": [
    "print(train_label*1000)\n",
    "print(result)"
   ]
  },
  {
   "cell_type": "code",
   "execution_count": null,
   "metadata": {},
   "outputs": [],
   "source": []
  }
 ],
 "metadata": {
  "kernelspec": {
   "display_name": "Python 3",
   "language": "python",
   "name": "python3"
  },
  "language_info": {
   "codemirror_mode": {
    "name": "ipython",
    "version": 3
   },
   "file_extension": ".py",
   "mimetype": "text/x-python",
   "name": "python",
   "nbconvert_exporter": "python",
   "pygments_lexer": "ipython3",
   "version": "3.6.7"
  }
 },
 "nbformat": 4,
 "nbformat_minor": 2
}
